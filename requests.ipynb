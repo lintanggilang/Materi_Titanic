{
 "cells": [
  {
   "cell_type": "code",
   "execution_count": 1,
   "id": "04ca5d64-eb0c-4ae4-9ec0-f7c35d1b71f4",
   "metadata": {},
   "outputs": [
    {
     "name": "stdout",
     "output_type": "stream",
     "text": [
      "{'Survived': 0}\n"
     ]
    }
   ],
   "source": [
    "import requests\n",
    "\n",
    "url = \"http://127.0.0.1:8000/Titanic/\"\n",
    "data = {\n",
    "    \"Pclass\": 3,\n",
    "    \"Sex\": \"male\",\n",
    "    \"Age\": 22.0,\n",
    "    \"SibSp\": 1,\n",
    "    \"Parch\": 0,\n",
    "    \"Fare\": 7.25,\n",
    "    \"Embarked\": \"S\"\n",
    "}\n",
    "\n",
    "response = requests.post(url, json=data)\n",
    "print(response.json())"
   ]
  }
 ],
 "metadata": {
  "kernelspec": {
   "display_name": "env_titanic_kernel",
   "language": "python",
   "name": "env_titanic_kernel"
  },
  "language_info": {
   "codemirror_mode": {
    "name": "ipython",
    "version": 3
   },
   "file_extension": ".py",
   "mimetype": "text/x-python",
   "name": "python",
   "nbconvert_exporter": "python",
   "pygments_lexer": "ipython3",
   "version": "3.11.4"
  }
 },
 "nbformat": 4,
 "nbformat_minor": 5
}
